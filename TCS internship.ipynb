{
 "cells": [
  {
   "cell_type": "markdown",
   "id": "ba3421d9",
   "metadata": {},
   "source": [
    "# Importing libraries"
   ]
  },
  {
   "cell_type": "code",
   "execution_count": 1,
   "id": "355c39fb",
   "metadata": {},
   "outputs": [],
   "source": [
    "import numpy as np\n",
    "import pandas as pd\n",
    "import matplotlib.pyplot as plt\n",
    "import seaborn as sns\n",
    "from faker import Faker\n",
    "import random"
   ]
  },
  {
   "cell_type": "code",
   "execution_count": 2,
   "id": "d46ff9a8",
   "metadata": {},
   "outputs": [],
   "source": [
    "df = pd.read_csv(r\"C:\\Users\\user\\Downloads\\archive (1)\\webmd.csv\")"
   ]
  },
  {
   "cell_type": "code",
   "execution_count": 3,
   "id": "68db69e8",
   "metadata": {},
   "outputs": [
    {
     "data": {
      "text/html": [
       "<div>\n",
       "<style scoped>\n",
       "    .dataframe tbody tr th:only-of-type {\n",
       "        vertical-align: middle;\n",
       "    }\n",
       "\n",
       "    .dataframe tbody tr th {\n",
       "        vertical-align: top;\n",
       "    }\n",
       "\n",
       "    .dataframe thead th {\n",
       "        text-align: right;\n",
       "    }\n",
       "</style>\n",
       "<table border=\"1\" class=\"dataframe\">\n",
       "  <thead>\n",
       "    <tr style=\"text-align: right;\">\n",
       "      <th></th>\n",
       "      <th>Age</th>\n",
       "      <th>Condition</th>\n",
       "      <th>Date</th>\n",
       "      <th>Drug</th>\n",
       "      <th>DrugId</th>\n",
       "      <th>EaseofUse</th>\n",
       "      <th>Effectiveness</th>\n",
       "      <th>Reviews</th>\n",
       "      <th>Satisfaction</th>\n",
       "      <th>Sex</th>\n",
       "      <th>Sides</th>\n",
       "      <th>UsefulCount</th>\n",
       "    </tr>\n",
       "  </thead>\n",
       "  <tbody>\n",
       "    <tr>\n",
       "      <th>0</th>\n",
       "      <td>75 or over</td>\n",
       "      <td>Stuffy Nose</td>\n",
       "      <td>9/21/2014</td>\n",
       "      <td>25dph-7.5peh</td>\n",
       "      <td>146724</td>\n",
       "      <td>5</td>\n",
       "      <td>5</td>\n",
       "      <td>I'm a retired physician and of all the meds I ...</td>\n",
       "      <td>5</td>\n",
       "      <td>Male</td>\n",
       "      <td>Drowsiness,  dizziness ,  dry mouth /nose/thro...</td>\n",
       "      <td>0</td>\n",
       "    </tr>\n",
       "    <tr>\n",
       "      <th>1</th>\n",
       "      <td>25-34</td>\n",
       "      <td>Cold Symptoms</td>\n",
       "      <td>1/13/2011</td>\n",
       "      <td>25dph-7.5peh</td>\n",
       "      <td>146724</td>\n",
       "      <td>5</td>\n",
       "      <td>5</td>\n",
       "      <td>cleared me right up even with my throat hurtin...</td>\n",
       "      <td>5</td>\n",
       "      <td>Female</td>\n",
       "      <td>Drowsiness,  dizziness ,  dry mouth /nose/thro...</td>\n",
       "      <td>1</td>\n",
       "    </tr>\n",
       "    <tr>\n",
       "      <th>2</th>\n",
       "      <td>65-74</td>\n",
       "      <td>Other</td>\n",
       "      <td>7/16/2012</td>\n",
       "      <td>warfarin (bulk) 100 % powder</td>\n",
       "      <td>144731</td>\n",
       "      <td>2</td>\n",
       "      <td>3</td>\n",
       "      <td>why did my PTINR go from a normal of 2.5 to ov...</td>\n",
       "      <td>3</td>\n",
       "      <td>Female</td>\n",
       "      <td></td>\n",
       "      <td>0</td>\n",
       "    </tr>\n",
       "    <tr>\n",
       "      <th>3</th>\n",
       "      <td>75 or over</td>\n",
       "      <td>Other</td>\n",
       "      <td>9/23/2010</td>\n",
       "      <td>warfarin (bulk) 100 % powder</td>\n",
       "      <td>144731</td>\n",
       "      <td>2</td>\n",
       "      <td>2</td>\n",
       "      <td>FALLING AND DON'T REALISE IT</td>\n",
       "      <td>1</td>\n",
       "      <td>Female</td>\n",
       "      <td></td>\n",
       "      <td>0</td>\n",
       "    </tr>\n",
       "    <tr>\n",
       "      <th>4</th>\n",
       "      <td>35-44</td>\n",
       "      <td>Other</td>\n",
       "      <td>1/6/2009</td>\n",
       "      <td>warfarin (bulk) 100 % powder</td>\n",
       "      <td>144731</td>\n",
       "      <td>1</td>\n",
       "      <td>1</td>\n",
       "      <td>My grandfather was prescribed this medication ...</td>\n",
       "      <td>1</td>\n",
       "      <td>Male</td>\n",
       "      <td></td>\n",
       "      <td>1</td>\n",
       "    </tr>\n",
       "  </tbody>\n",
       "</table>\n",
       "</div>"
      ],
      "text/plain": [
       "          Age      Condition       Date                          Drug  DrugId  \\\n",
       "0  75 or over    Stuffy Nose  9/21/2014                  25dph-7.5peh  146724   \n",
       "1       25-34  Cold Symptoms  1/13/2011                  25dph-7.5peh  146724   \n",
       "2       65-74          Other  7/16/2012  warfarin (bulk) 100 % powder  144731   \n",
       "3  75 or over          Other  9/23/2010  warfarin (bulk) 100 % powder  144731   \n",
       "4       35-44          Other   1/6/2009  warfarin (bulk) 100 % powder  144731   \n",
       "\n",
       "   EaseofUse  Effectiveness  \\\n",
       "0          5              5   \n",
       "1          5              5   \n",
       "2          2              3   \n",
       "3          2              2   \n",
       "4          1              1   \n",
       "\n",
       "                                             Reviews  Satisfaction     Sex  \\\n",
       "0  I'm a retired physician and of all the meds I ...             5    Male   \n",
       "1  cleared me right up even with my throat hurtin...             5  Female   \n",
       "2  why did my PTINR go from a normal of 2.5 to ov...             3  Female   \n",
       "3                       FALLING AND DON'T REALISE IT             1  Female   \n",
       "4  My grandfather was prescribed this medication ...             1    Male   \n",
       "\n",
       "                                               Sides  UsefulCount  \n",
       "0  Drowsiness,  dizziness ,  dry mouth /nose/thro...            0  \n",
       "1  Drowsiness,  dizziness ,  dry mouth /nose/thro...            1  \n",
       "2                                                               0  \n",
       "3                                                               0  \n",
       "4                                                               1  "
      ]
     },
     "execution_count": 3,
     "metadata": {},
     "output_type": "execute_result"
    }
   ],
   "source": [
    "df.head()"
   ]
  },
  {
   "cell_type": "code",
   "execution_count": 4,
   "id": "224024c0",
   "metadata": {},
   "outputs": [
    {
     "data": {
      "text/plain": [
       "(362806, 12)"
      ]
     },
     "execution_count": 4,
     "metadata": {},
     "output_type": "execute_result"
    }
   ],
   "source": [
    "df.shape"
   ]
  },
  {
   "cell_type": "code",
   "execution_count": 5,
   "id": "8c1bad68",
   "metadata": {},
   "outputs": [],
   "source": [
    "# Generate a random name\n",
    "\n",
    "fake = Faker()\n",
    "name = fake.name()\n",
    "\n",
    "# Generate a random race\n",
    "\n",
    "races = ['Caucasian', 'African American', 'Asian', 'Hispanic', 'Native American']\n",
    "race = random.choice(races)\n"
   ]
  },
  {
   "cell_type": "code",
   "execution_count": 6,
   "id": "947c711c",
   "metadata": {},
   "outputs": [],
   "source": [
    "\n",
    "# Create an instance of Faker\n",
    "fake = Faker()\n",
    "\n",
    "# Create an empty list to store the generated names and races\n",
    "generated_names = []\n",
    "generated_races = []\n",
    "\n",
    "# Generate random names and races for each row in the dataset\n",
    "for _ in range(len(df)):\n",
    "    name = fake.name()\n",
    "    race = random.choice(['Caucasian', 'African American', 'Asian', 'Hispanic', 'American'])\n",
    "    generated_names.append(name)\n",
    "    generated_races.append(race)\n",
    "\n",
    "# Adding names and races as new columns to the DataFrame\n",
    "df['Name'] = generated_names\n",
    "df['Race'] = generated_races\n",
    "\n"
   ]
  },
  {
   "cell_type": "code",
   "execution_count": 7,
   "id": "207a4b49",
   "metadata": {},
   "outputs": [
    {
     "data": {
      "text/html": [
       "<div>\n",
       "<style scoped>\n",
       "    .dataframe tbody tr th:only-of-type {\n",
       "        vertical-align: middle;\n",
       "    }\n",
       "\n",
       "    .dataframe tbody tr th {\n",
       "        vertical-align: top;\n",
       "    }\n",
       "\n",
       "    .dataframe thead th {\n",
       "        text-align: right;\n",
       "    }\n",
       "</style>\n",
       "<table border=\"1\" class=\"dataframe\">\n",
       "  <thead>\n",
       "    <tr style=\"text-align: right;\">\n",
       "      <th></th>\n",
       "      <th>Age</th>\n",
       "      <th>Condition</th>\n",
       "      <th>Date</th>\n",
       "      <th>Drug</th>\n",
       "      <th>DrugId</th>\n",
       "      <th>EaseofUse</th>\n",
       "      <th>Effectiveness</th>\n",
       "      <th>Reviews</th>\n",
       "      <th>Satisfaction</th>\n",
       "      <th>Sex</th>\n",
       "      <th>Sides</th>\n",
       "      <th>UsefulCount</th>\n",
       "      <th>Name</th>\n",
       "      <th>Race</th>\n",
       "    </tr>\n",
       "  </thead>\n",
       "  <tbody>\n",
       "    <tr>\n",
       "      <th>0</th>\n",
       "      <td>75 or over</td>\n",
       "      <td>Stuffy Nose</td>\n",
       "      <td>9/21/2014</td>\n",
       "      <td>25dph-7.5peh</td>\n",
       "      <td>146724</td>\n",
       "      <td>5</td>\n",
       "      <td>5</td>\n",
       "      <td>I'm a retired physician and of all the meds I ...</td>\n",
       "      <td>5</td>\n",
       "      <td>Male</td>\n",
       "      <td>Drowsiness,  dizziness ,  dry mouth /nose/thro...</td>\n",
       "      <td>0</td>\n",
       "      <td>David Lopez</td>\n",
       "      <td>Hispanic</td>\n",
       "    </tr>\n",
       "    <tr>\n",
       "      <th>1</th>\n",
       "      <td>25-34</td>\n",
       "      <td>Cold Symptoms</td>\n",
       "      <td>1/13/2011</td>\n",
       "      <td>25dph-7.5peh</td>\n",
       "      <td>146724</td>\n",
       "      <td>5</td>\n",
       "      <td>5</td>\n",
       "      <td>cleared me right up even with my throat hurtin...</td>\n",
       "      <td>5</td>\n",
       "      <td>Female</td>\n",
       "      <td>Drowsiness,  dizziness ,  dry mouth /nose/thro...</td>\n",
       "      <td>1</td>\n",
       "      <td>Laurie Obrien</td>\n",
       "      <td>Caucasian</td>\n",
       "    </tr>\n",
       "    <tr>\n",
       "      <th>2</th>\n",
       "      <td>65-74</td>\n",
       "      <td>Other</td>\n",
       "      <td>7/16/2012</td>\n",
       "      <td>warfarin (bulk) 100 % powder</td>\n",
       "      <td>144731</td>\n",
       "      <td>2</td>\n",
       "      <td>3</td>\n",
       "      <td>why did my PTINR go from a normal of 2.5 to ov...</td>\n",
       "      <td>3</td>\n",
       "      <td>Female</td>\n",
       "      <td></td>\n",
       "      <td>0</td>\n",
       "      <td>Raymond Moore</td>\n",
       "      <td>Asian</td>\n",
       "    </tr>\n",
       "    <tr>\n",
       "      <th>3</th>\n",
       "      <td>75 or over</td>\n",
       "      <td>Other</td>\n",
       "      <td>9/23/2010</td>\n",
       "      <td>warfarin (bulk) 100 % powder</td>\n",
       "      <td>144731</td>\n",
       "      <td>2</td>\n",
       "      <td>2</td>\n",
       "      <td>FALLING AND DON'T REALISE IT</td>\n",
       "      <td>1</td>\n",
       "      <td>Female</td>\n",
       "      <td></td>\n",
       "      <td>0</td>\n",
       "      <td>Pamela Phillips</td>\n",
       "      <td>Caucasian</td>\n",
       "    </tr>\n",
       "    <tr>\n",
       "      <th>4</th>\n",
       "      <td>35-44</td>\n",
       "      <td>Other</td>\n",
       "      <td>1/6/2009</td>\n",
       "      <td>warfarin (bulk) 100 % powder</td>\n",
       "      <td>144731</td>\n",
       "      <td>1</td>\n",
       "      <td>1</td>\n",
       "      <td>My grandfather was prescribed this medication ...</td>\n",
       "      <td>1</td>\n",
       "      <td>Male</td>\n",
       "      <td></td>\n",
       "      <td>1</td>\n",
       "      <td>Dr. Jessica Parker</td>\n",
       "      <td>Hispanic</td>\n",
       "    </tr>\n",
       "  </tbody>\n",
       "</table>\n",
       "</div>"
      ],
      "text/plain": [
       "          Age      Condition       Date                          Drug  DrugId  \\\n",
       "0  75 or over    Stuffy Nose  9/21/2014                  25dph-7.5peh  146724   \n",
       "1       25-34  Cold Symptoms  1/13/2011                  25dph-7.5peh  146724   \n",
       "2       65-74          Other  7/16/2012  warfarin (bulk) 100 % powder  144731   \n",
       "3  75 or over          Other  9/23/2010  warfarin (bulk) 100 % powder  144731   \n",
       "4       35-44          Other   1/6/2009  warfarin (bulk) 100 % powder  144731   \n",
       "\n",
       "   EaseofUse  Effectiveness  \\\n",
       "0          5              5   \n",
       "1          5              5   \n",
       "2          2              3   \n",
       "3          2              2   \n",
       "4          1              1   \n",
       "\n",
       "                                             Reviews  Satisfaction     Sex  \\\n",
       "0  I'm a retired physician and of all the meds I ...             5    Male   \n",
       "1  cleared me right up even with my throat hurtin...             5  Female   \n",
       "2  why did my PTINR go from a normal of 2.5 to ov...             3  Female   \n",
       "3                       FALLING AND DON'T REALISE IT             1  Female   \n",
       "4  My grandfather was prescribed this medication ...             1    Male   \n",
       "\n",
       "                                               Sides  UsefulCount  \\\n",
       "0  Drowsiness,  dizziness ,  dry mouth /nose/thro...            0   \n",
       "1  Drowsiness,  dizziness ,  dry mouth /nose/thro...            1   \n",
       "2                                                               0   \n",
       "3                                                               0   \n",
       "4                                                               1   \n",
       "\n",
       "                 Name       Race  \n",
       "0         David Lopez   Hispanic  \n",
       "1       Laurie Obrien  Caucasian  \n",
       "2       Raymond Moore      Asian  \n",
       "3     Pamela Phillips  Caucasian  \n",
       "4  Dr. Jessica Parker   Hispanic  "
      ]
     },
     "execution_count": 7,
     "metadata": {},
     "output_type": "execute_result"
    }
   ],
   "source": [
    "df.head()"
   ]
  },
  {
   "cell_type": "code",
   "execution_count": 8,
   "id": "b9c7c755",
   "metadata": {},
   "outputs": [
    {
     "data": {
      "text/html": [
       "<div>\n",
       "<style scoped>\n",
       "    .dataframe tbody tr th:only-of-type {\n",
       "        vertical-align: middle;\n",
       "    }\n",
       "\n",
       "    .dataframe tbody tr th {\n",
       "        vertical-align: top;\n",
       "    }\n",
       "\n",
       "    .dataframe thead th {\n",
       "        text-align: right;\n",
       "    }\n",
       "</style>\n",
       "<table border=\"1\" class=\"dataframe\">\n",
       "  <thead>\n",
       "    <tr style=\"text-align: right;\">\n",
       "      <th></th>\n",
       "      <th>Name</th>\n",
       "      <th>Sex</th>\n",
       "      <th>Race</th>\n",
       "      <th>Age</th>\n",
       "      <th>Condition</th>\n",
       "      <th>Date</th>\n",
       "      <th>Drug</th>\n",
       "      <th>DrugId</th>\n",
       "      <th>EaseofUse</th>\n",
       "      <th>Effectiveness</th>\n",
       "      <th>Reviews</th>\n",
       "      <th>Satisfaction</th>\n",
       "      <th>Sides</th>\n",
       "      <th>UsefulCount</th>\n",
       "    </tr>\n",
       "  </thead>\n",
       "  <tbody>\n",
       "    <tr>\n",
       "      <th>0</th>\n",
       "      <td>David Lopez</td>\n",
       "      <td>Male</td>\n",
       "      <td>Hispanic</td>\n",
       "      <td>75 or over</td>\n",
       "      <td>Stuffy Nose</td>\n",
       "      <td>9/21/2014</td>\n",
       "      <td>25dph-7.5peh</td>\n",
       "      <td>146724</td>\n",
       "      <td>5</td>\n",
       "      <td>5</td>\n",
       "      <td>I'm a retired physician and of all the meds I ...</td>\n",
       "      <td>5</td>\n",
       "      <td>Drowsiness,  dizziness ,  dry mouth /nose/thro...</td>\n",
       "      <td>0</td>\n",
       "    </tr>\n",
       "    <tr>\n",
       "      <th>1</th>\n",
       "      <td>Laurie Obrien</td>\n",
       "      <td>Female</td>\n",
       "      <td>Caucasian</td>\n",
       "      <td>25-34</td>\n",
       "      <td>Cold Symptoms</td>\n",
       "      <td>1/13/2011</td>\n",
       "      <td>25dph-7.5peh</td>\n",
       "      <td>146724</td>\n",
       "      <td>5</td>\n",
       "      <td>5</td>\n",
       "      <td>cleared me right up even with my throat hurtin...</td>\n",
       "      <td>5</td>\n",
       "      <td>Drowsiness,  dizziness ,  dry mouth /nose/thro...</td>\n",
       "      <td>1</td>\n",
       "    </tr>\n",
       "    <tr>\n",
       "      <th>2</th>\n",
       "      <td>Raymond Moore</td>\n",
       "      <td>Female</td>\n",
       "      <td>Asian</td>\n",
       "      <td>65-74</td>\n",
       "      <td>Other</td>\n",
       "      <td>7/16/2012</td>\n",
       "      <td>warfarin (bulk) 100 % powder</td>\n",
       "      <td>144731</td>\n",
       "      <td>2</td>\n",
       "      <td>3</td>\n",
       "      <td>why did my PTINR go from a normal of 2.5 to ov...</td>\n",
       "      <td>3</td>\n",
       "      <td></td>\n",
       "      <td>0</td>\n",
       "    </tr>\n",
       "    <tr>\n",
       "      <th>3</th>\n",
       "      <td>Pamela Phillips</td>\n",
       "      <td>Female</td>\n",
       "      <td>Caucasian</td>\n",
       "      <td>75 or over</td>\n",
       "      <td>Other</td>\n",
       "      <td>9/23/2010</td>\n",
       "      <td>warfarin (bulk) 100 % powder</td>\n",
       "      <td>144731</td>\n",
       "      <td>2</td>\n",
       "      <td>2</td>\n",
       "      <td>FALLING AND DON'T REALISE IT</td>\n",
       "      <td>1</td>\n",
       "      <td></td>\n",
       "      <td>0</td>\n",
       "    </tr>\n",
       "    <tr>\n",
       "      <th>4</th>\n",
       "      <td>Dr. Jessica Parker</td>\n",
       "      <td>Male</td>\n",
       "      <td>Hispanic</td>\n",
       "      <td>35-44</td>\n",
       "      <td>Other</td>\n",
       "      <td>1/6/2009</td>\n",
       "      <td>warfarin (bulk) 100 % powder</td>\n",
       "      <td>144731</td>\n",
       "      <td>1</td>\n",
       "      <td>1</td>\n",
       "      <td>My grandfather was prescribed this medication ...</td>\n",
       "      <td>1</td>\n",
       "      <td></td>\n",
       "      <td>1</td>\n",
       "    </tr>\n",
       "  </tbody>\n",
       "</table>\n",
       "</div>"
      ],
      "text/plain": [
       "                 Name     Sex       Race         Age      Condition  \\\n",
       "0         David Lopez    Male   Hispanic  75 or over    Stuffy Nose   \n",
       "1       Laurie Obrien  Female  Caucasian       25-34  Cold Symptoms   \n",
       "2       Raymond Moore  Female      Asian       65-74          Other   \n",
       "3     Pamela Phillips  Female  Caucasian  75 or over          Other   \n",
       "4  Dr. Jessica Parker    Male   Hispanic       35-44          Other   \n",
       "\n",
       "        Date                          Drug  DrugId  EaseofUse  Effectiveness  \\\n",
       "0  9/21/2014                  25dph-7.5peh  146724          5              5   \n",
       "1  1/13/2011                  25dph-7.5peh  146724          5              5   \n",
       "2  7/16/2012  warfarin (bulk) 100 % powder  144731          2              3   \n",
       "3  9/23/2010  warfarin (bulk) 100 % powder  144731          2              2   \n",
       "4   1/6/2009  warfarin (bulk) 100 % powder  144731          1              1   \n",
       "\n",
       "                                             Reviews  Satisfaction  \\\n",
       "0  I'm a retired physician and of all the meds I ...             5   \n",
       "1  cleared me right up even with my throat hurtin...             5   \n",
       "2  why did my PTINR go from a normal of 2.5 to ov...             3   \n",
       "3                       FALLING AND DON'T REALISE IT             1   \n",
       "4  My grandfather was prescribed this medication ...             1   \n",
       "\n",
       "                                               Sides  UsefulCount  \n",
       "0  Drowsiness,  dizziness ,  dry mouth /nose/thro...            0  \n",
       "1  Drowsiness,  dizziness ,  dry mouth /nose/thro...            1  \n",
       "2                                                               0  \n",
       "3                                                               0  \n",
       "4                                                               1  "
      ]
     },
     "execution_count": 8,
     "metadata": {},
     "output_type": "execute_result"
    }
   ],
   "source": [
    "# reordering and bringing the name,race and sex to beginning\n",
    "\n",
    "\n",
    "df = df[['Name', 'Sex', 'Race', 'Age', 'Condition', 'Date', 'Drug', 'DrugId', 'EaseofUse', 'Effectiveness', 'Reviews', 'Satisfaction', 'Sides', 'UsefulCount']]\n",
    "\n",
    "df.head()\n"
   ]
  },
  {
   "cell_type": "code",
   "execution_count": 9,
   "id": "8b281288",
   "metadata": {},
   "outputs": [],
   "source": [
    "#saving the modified dataset\n",
    "\n",
    "\n",
    "df.to_csv(\"drugs side effect.csv\", index=False)\n"
   ]
  },
  {
   "cell_type": "markdown",
   "id": "feab8037",
   "metadata": {},
   "source": [
    "# Reading the modified dataset"
   ]
  },
  {
   "cell_type": "code",
   "execution_count": 10,
   "id": "bd5efd6a",
   "metadata": {},
   "outputs": [],
   "source": [
    "df = pd.read_csv(\"drugs side effect.csv\")"
   ]
  },
  {
   "cell_type": "code",
   "execution_count": 11,
   "id": "1a3f7dd6",
   "metadata": {},
   "outputs": [
    {
     "data": {
      "text/html": [
       "<div>\n",
       "<style scoped>\n",
       "    .dataframe tbody tr th:only-of-type {\n",
       "        vertical-align: middle;\n",
       "    }\n",
       "\n",
       "    .dataframe tbody tr th {\n",
       "        vertical-align: top;\n",
       "    }\n",
       "\n",
       "    .dataframe thead th {\n",
       "        text-align: right;\n",
       "    }\n",
       "</style>\n",
       "<table border=\"1\" class=\"dataframe\">\n",
       "  <thead>\n",
       "    <tr style=\"text-align: right;\">\n",
       "      <th></th>\n",
       "      <th>Name</th>\n",
       "      <th>Sex</th>\n",
       "      <th>Race</th>\n",
       "      <th>Age</th>\n",
       "      <th>Condition</th>\n",
       "      <th>Date</th>\n",
       "      <th>Drug</th>\n",
       "      <th>DrugId</th>\n",
       "      <th>EaseofUse</th>\n",
       "      <th>Effectiveness</th>\n",
       "      <th>Reviews</th>\n",
       "      <th>Satisfaction</th>\n",
       "      <th>Sides</th>\n",
       "      <th>UsefulCount</th>\n",
       "    </tr>\n",
       "  </thead>\n",
       "  <tbody>\n",
       "    <tr>\n",
       "      <th>0</th>\n",
       "      <td>David Lopez</td>\n",
       "      <td>Male</td>\n",
       "      <td>Hispanic</td>\n",
       "      <td>75 or over</td>\n",
       "      <td>Stuffy Nose</td>\n",
       "      <td>9/21/2014</td>\n",
       "      <td>25dph-7.5peh</td>\n",
       "      <td>146724</td>\n",
       "      <td>5</td>\n",
       "      <td>5</td>\n",
       "      <td>I'm a retired physician and of all the meds I ...</td>\n",
       "      <td>5</td>\n",
       "      <td>Drowsiness,  dizziness ,  dry mouth /nose/thro...</td>\n",
       "      <td>0</td>\n",
       "    </tr>\n",
       "    <tr>\n",
       "      <th>1</th>\n",
       "      <td>Laurie Obrien</td>\n",
       "      <td>Female</td>\n",
       "      <td>Caucasian</td>\n",
       "      <td>25-34</td>\n",
       "      <td>Cold Symptoms</td>\n",
       "      <td>1/13/2011</td>\n",
       "      <td>25dph-7.5peh</td>\n",
       "      <td>146724</td>\n",
       "      <td>5</td>\n",
       "      <td>5</td>\n",
       "      <td>cleared me right up even with my throat hurtin...</td>\n",
       "      <td>5</td>\n",
       "      <td>Drowsiness,  dizziness ,  dry mouth /nose/thro...</td>\n",
       "      <td>1</td>\n",
       "    </tr>\n",
       "    <tr>\n",
       "      <th>2</th>\n",
       "      <td>Raymond Moore</td>\n",
       "      <td>Female</td>\n",
       "      <td>Asian</td>\n",
       "      <td>65-74</td>\n",
       "      <td>Other</td>\n",
       "      <td>7/16/2012</td>\n",
       "      <td>warfarin (bulk) 100 % powder</td>\n",
       "      <td>144731</td>\n",
       "      <td>2</td>\n",
       "      <td>3</td>\n",
       "      <td>why did my PTINR go from a normal of 2.5 to ov...</td>\n",
       "      <td>3</td>\n",
       "      <td></td>\n",
       "      <td>0</td>\n",
       "    </tr>\n",
       "    <tr>\n",
       "      <th>3</th>\n",
       "      <td>Pamela Phillips</td>\n",
       "      <td>Female</td>\n",
       "      <td>Caucasian</td>\n",
       "      <td>75 or over</td>\n",
       "      <td>Other</td>\n",
       "      <td>9/23/2010</td>\n",
       "      <td>warfarin (bulk) 100 % powder</td>\n",
       "      <td>144731</td>\n",
       "      <td>2</td>\n",
       "      <td>2</td>\n",
       "      <td>FALLING AND DON'T REALISE IT</td>\n",
       "      <td>1</td>\n",
       "      <td></td>\n",
       "      <td>0</td>\n",
       "    </tr>\n",
       "    <tr>\n",
       "      <th>4</th>\n",
       "      <td>Dr. Jessica Parker</td>\n",
       "      <td>Male</td>\n",
       "      <td>Hispanic</td>\n",
       "      <td>35-44</td>\n",
       "      <td>Other</td>\n",
       "      <td>1/6/2009</td>\n",
       "      <td>warfarin (bulk) 100 % powder</td>\n",
       "      <td>144731</td>\n",
       "      <td>1</td>\n",
       "      <td>1</td>\n",
       "      <td>My grandfather was prescribed this medication ...</td>\n",
       "      <td>1</td>\n",
       "      <td></td>\n",
       "      <td>1</td>\n",
       "    </tr>\n",
       "  </tbody>\n",
       "</table>\n",
       "</div>"
      ],
      "text/plain": [
       "                 Name     Sex       Race         Age      Condition  \\\n",
       "0         David Lopez    Male   Hispanic  75 or over    Stuffy Nose   \n",
       "1       Laurie Obrien  Female  Caucasian       25-34  Cold Symptoms   \n",
       "2       Raymond Moore  Female      Asian       65-74          Other   \n",
       "3     Pamela Phillips  Female  Caucasian  75 or over          Other   \n",
       "4  Dr. Jessica Parker    Male   Hispanic       35-44          Other   \n",
       "\n",
       "        Date                          Drug  DrugId  EaseofUse  Effectiveness  \\\n",
       "0  9/21/2014                  25dph-7.5peh  146724          5              5   \n",
       "1  1/13/2011                  25dph-7.5peh  146724          5              5   \n",
       "2  7/16/2012  warfarin (bulk) 100 % powder  144731          2              3   \n",
       "3  9/23/2010  warfarin (bulk) 100 % powder  144731          2              2   \n",
       "4   1/6/2009  warfarin (bulk) 100 % powder  144731          1              1   \n",
       "\n",
       "                                             Reviews  Satisfaction  \\\n",
       "0  I'm a retired physician and of all the meds I ...             5   \n",
       "1  cleared me right up even with my throat hurtin...             5   \n",
       "2  why did my PTINR go from a normal of 2.5 to ov...             3   \n",
       "3                       FALLING AND DON'T REALISE IT             1   \n",
       "4  My grandfather was prescribed this medication ...             1   \n",
       "\n",
       "                                               Sides  UsefulCount  \n",
       "0  Drowsiness,  dizziness ,  dry mouth /nose/thro...            0  \n",
       "1  Drowsiness,  dizziness ,  dry mouth /nose/thro...            1  \n",
       "2                                                               0  \n",
       "3                                                               0  \n",
       "4                                                               1  "
      ]
     },
     "execution_count": 11,
     "metadata": {},
     "output_type": "execute_result"
    }
   ],
   "source": [
    "df.head()"
   ]
  },
  {
   "cell_type": "code",
   "execution_count": 12,
   "id": "bfecc721",
   "metadata": {},
   "outputs": [
    {
     "data": {
      "text/html": [
       "<div>\n",
       "<style scoped>\n",
       "    .dataframe tbody tr th:only-of-type {\n",
       "        vertical-align: middle;\n",
       "    }\n",
       "\n",
       "    .dataframe tbody tr th {\n",
       "        vertical-align: top;\n",
       "    }\n",
       "\n",
       "    .dataframe thead th {\n",
       "        text-align: right;\n",
       "    }\n",
       "</style>\n",
       "<table border=\"1\" class=\"dataframe\">\n",
       "  <thead>\n",
       "    <tr style=\"text-align: right;\">\n",
       "      <th></th>\n",
       "      <th>Name</th>\n",
       "      <th>Sex</th>\n",
       "      <th>Race</th>\n",
       "      <th>Age</th>\n",
       "      <th>Condition</th>\n",
       "      <th>Date</th>\n",
       "      <th>Drug</th>\n",
       "      <th>DrugId</th>\n",
       "      <th>EaseofUse</th>\n",
       "      <th>Effectiveness</th>\n",
       "      <th>Reviews</th>\n",
       "      <th>Satisfaction</th>\n",
       "      <th>Sides</th>\n",
       "      <th>UsefulCount</th>\n",
       "    </tr>\n",
       "  </thead>\n",
       "  <tbody>\n",
       "    <tr>\n",
       "      <th>362801</th>\n",
       "      <td>Sarah Sanchez</td>\n",
       "      <td>Female</td>\n",
       "      <td>American</td>\n",
       "      <td>55-64</td>\n",
       "      <td>Stop Smoking</td>\n",
       "      <td>11/14/2008</td>\n",
       "      <td>chantix</td>\n",
       "      <td>144470</td>\n",
       "      <td>5</td>\n",
       "      <td>5</td>\n",
       "      <td>I took the whole 12 weeks.I could have stopped...</td>\n",
       "      <td>5</td>\n",
       "      <td>Nausea ,  headache ,  vomiting , drowsiness, g...</td>\n",
       "      <td>2</td>\n",
       "    </tr>\n",
       "    <tr>\n",
       "      <th>362802</th>\n",
       "      <td>Kathy Green</td>\n",
       "      <td></td>\n",
       "      <td>Hispanic</td>\n",
       "      <td></td>\n",
       "      <td>Other</td>\n",
       "      <td>11/14/2008</td>\n",
       "      <td>chantix</td>\n",
       "      <td>144470</td>\n",
       "      <td>2</td>\n",
       "      <td>3</td>\n",
       "      <td>My dad strated taking Chantix about 1 month ag...</td>\n",
       "      <td>1</td>\n",
       "      <td>Nausea ,  headache ,  vomiting , drowsiness, g...</td>\n",
       "      <td>16</td>\n",
       "    </tr>\n",
       "    <tr>\n",
       "      <th>362803</th>\n",
       "      <td>Brian Fox</td>\n",
       "      <td>Female</td>\n",
       "      <td>Asian</td>\n",
       "      <td>25-34</td>\n",
       "      <td>Stop Smoking</td>\n",
       "      <td>11/13/2008</td>\n",
       "      <td>chantix</td>\n",
       "      <td>144470</td>\n",
       "      <td>2</td>\n",
       "      <td>4</td>\n",
       "      <td>As long as I was on chantix, I didn't smoke.  ...</td>\n",
       "      <td>2</td>\n",
       "      <td>Nausea ,  headache ,  vomiting , drowsiness, g...</td>\n",
       "      <td>3</td>\n",
       "    </tr>\n",
       "    <tr>\n",
       "      <th>362804</th>\n",
       "      <td>Casey Ray</td>\n",
       "      <td>Male</td>\n",
       "      <td>American</td>\n",
       "      <td>55-64</td>\n",
       "      <td>Stop Smoking</td>\n",
       "      <td>11/13/2008</td>\n",
       "      <td>chantix</td>\n",
       "      <td>144470</td>\n",
       "      <td>5</td>\n",
       "      <td>5</td>\n",
       "      <td>Started this medication Oct 5th 2008. Haven't ...</td>\n",
       "      <td>5</td>\n",
       "      <td>Nausea ,  headache ,  vomiting , drowsiness, g...</td>\n",
       "      <td>1</td>\n",
       "    </tr>\n",
       "    <tr>\n",
       "      <th>362805</th>\n",
       "      <td>Chris Gill MD</td>\n",
       "      <td>Female</td>\n",
       "      <td>Caucasian</td>\n",
       "      <td>45-54</td>\n",
       "      <td>Stop Smoking</td>\n",
       "      <td>11/12/2008</td>\n",
       "      <td>chantix</td>\n",
       "      <td>144470</td>\n",
       "      <td>4</td>\n",
       "      <td>5</td>\n",
       "      <td>One year ago, I tried Chantix and had to stop ...</td>\n",
       "      <td>5</td>\n",
       "      <td>Nausea ,  headache ,  vomiting , drowsiness, g...</td>\n",
       "      <td>3</td>\n",
       "    </tr>\n",
       "  </tbody>\n",
       "</table>\n",
       "</div>"
      ],
      "text/plain": [
       "                 Name     Sex       Race    Age     Condition        Date  \\\n",
       "362801  Sarah Sanchez  Female   American  55-64  Stop Smoking  11/14/2008   \n",
       "362802    Kathy Green           Hispanic                Other  11/14/2008   \n",
       "362803      Brian Fox  Female      Asian  25-34  Stop Smoking  11/13/2008   \n",
       "362804      Casey Ray    Male   American  55-64  Stop Smoking  11/13/2008   \n",
       "362805  Chris Gill MD  Female  Caucasian  45-54  Stop Smoking  11/12/2008   \n",
       "\n",
       "           Drug  DrugId  EaseofUse  Effectiveness  \\\n",
       "362801  chantix  144470          5              5   \n",
       "362802  chantix  144470          2              3   \n",
       "362803  chantix  144470          2              4   \n",
       "362804  chantix  144470          5              5   \n",
       "362805  chantix  144470          4              5   \n",
       "\n",
       "                                                  Reviews  Satisfaction  \\\n",
       "362801  I took the whole 12 weeks.I could have stopped...             5   \n",
       "362802  My dad strated taking Chantix about 1 month ag...             1   \n",
       "362803  As long as I was on chantix, I didn't smoke.  ...             2   \n",
       "362804  Started this medication Oct 5th 2008. Haven't ...             5   \n",
       "362805  One year ago, I tried Chantix and had to stop ...             5   \n",
       "\n",
       "                                                    Sides  UsefulCount  \n",
       "362801  Nausea ,  headache ,  vomiting , drowsiness, g...            2  \n",
       "362802  Nausea ,  headache ,  vomiting , drowsiness, g...           16  \n",
       "362803  Nausea ,  headache ,  vomiting , drowsiness, g...            3  \n",
       "362804  Nausea ,  headache ,  vomiting , drowsiness, g...            1  \n",
       "362805  Nausea ,  headache ,  vomiting , drowsiness, g...            3  "
      ]
     },
     "execution_count": 12,
     "metadata": {},
     "output_type": "execute_result"
    }
   ],
   "source": [
    "df.tail()"
   ]
  },
  {
   "cell_type": "code",
   "execution_count": 13,
   "id": "d2fb594d",
   "metadata": {},
   "outputs": [
    {
     "data": {
      "text/plain": [
       "(362806, 14)"
      ]
     },
     "execution_count": 13,
     "metadata": {},
     "output_type": "execute_result"
    }
   ],
   "source": [
    "df.shape"
   ]
  },
  {
   "cell_type": "code",
   "execution_count": 14,
   "id": "05646a5e",
   "metadata": {},
   "outputs": [
    {
     "name": "stdout",
     "output_type": "stream",
     "text": [
      "<class 'pandas.core.frame.DataFrame'>\n",
      "RangeIndex: 362806 entries, 0 to 362805\n",
      "Data columns (total 14 columns):\n",
      " #   Column         Non-Null Count   Dtype \n",
      "---  ------         --------------   ----- \n",
      " 0   Name           362806 non-null  object\n",
      " 1   Sex            362806 non-null  object\n",
      " 2   Race           362806 non-null  object\n",
      " 3   Age            362806 non-null  object\n",
      " 4   Condition      362806 non-null  object\n",
      " 5   Date           362806 non-null  object\n",
      " 6   Drug           362806 non-null  object\n",
      " 7   DrugId         362806 non-null  int64 \n",
      " 8   EaseofUse      362806 non-null  int64 \n",
      " 9   Effectiveness  362806 non-null  int64 \n",
      " 10  Reviews        362769 non-null  object\n",
      " 11  Satisfaction   362806 non-null  int64 \n",
      " 12  Sides          362806 non-null  object\n",
      " 13  UsefulCount    362806 non-null  int64 \n",
      "dtypes: int64(5), object(9)\n",
      "memory usage: 38.8+ MB\n"
     ]
    }
   ],
   "source": [
    "df.info()"
   ]
  },
  {
   "cell_type": "code",
   "execution_count": 15,
   "id": "9bd4fef4",
   "metadata": {},
   "outputs": [
    {
     "data": {
      "text/plain": [
       "Name              0\n",
       "Sex               0\n",
       "Race              0\n",
       "Age               0\n",
       "Condition         0\n",
       "Date              0\n",
       "Drug              0\n",
       "DrugId            0\n",
       "EaseofUse         0\n",
       "Effectiveness     0\n",
       "Reviews          37\n",
       "Satisfaction      0\n",
       "Sides             0\n",
       "UsefulCount       0\n",
       "dtype: int64"
      ]
     },
     "execution_count": 15,
     "metadata": {},
     "output_type": "execute_result"
    }
   ],
   "source": [
    "df.isna().sum()"
   ]
  },
  {
   "cell_type": "code",
   "execution_count": 16,
   "id": "6a3a07d6",
   "metadata": {},
   "outputs": [
    {
     "data": {
      "text/plain": [
       "0"
      ]
     },
     "execution_count": 16,
     "metadata": {},
     "output_type": "execute_result"
    }
   ],
   "source": [
    "df.duplicated().sum()"
   ]
  },
  {
   "cell_type": "code",
   "execution_count": 17,
   "id": "de48f495",
   "metadata": {},
   "outputs": [
    {
     "data": {
      "text/html": [
       "<div>\n",
       "<style scoped>\n",
       "    .dataframe tbody tr th:only-of-type {\n",
       "        vertical-align: middle;\n",
       "    }\n",
       "\n",
       "    .dataframe tbody tr th {\n",
       "        vertical-align: top;\n",
       "    }\n",
       "\n",
       "    .dataframe thead th {\n",
       "        text-align: right;\n",
       "    }\n",
       "</style>\n",
       "<table border=\"1\" class=\"dataframe\">\n",
       "  <thead>\n",
       "    <tr style=\"text-align: right;\">\n",
       "      <th></th>\n",
       "      <th>count</th>\n",
       "      <th>unique</th>\n",
       "      <th>top</th>\n",
       "      <th>freq</th>\n",
       "    </tr>\n",
       "  </thead>\n",
       "  <tbody>\n",
       "    <tr>\n",
       "      <th>Name</th>\n",
       "      <td>362806</td>\n",
       "      <td>180774</td>\n",
       "      <td>Michael Smith</td>\n",
       "      <td>168</td>\n",
       "    </tr>\n",
       "    <tr>\n",
       "      <th>Sex</th>\n",
       "      <td>362806</td>\n",
       "      <td>3</td>\n",
       "      <td>Female</td>\n",
       "      <td>238226</td>\n",
       "    </tr>\n",
       "    <tr>\n",
       "      <th>Race</th>\n",
       "      <td>362806</td>\n",
       "      <td>5</td>\n",
       "      <td>African American</td>\n",
       "      <td>73205</td>\n",
       "    </tr>\n",
       "    <tr>\n",
       "      <th>Age</th>\n",
       "      <td>362806</td>\n",
       "      <td>12</td>\n",
       "      <td>45-54</td>\n",
       "      <td>80043</td>\n",
       "    </tr>\n",
       "    <tr>\n",
       "      <th>Condition</th>\n",
       "      <td>362806</td>\n",
       "      <td>1806</td>\n",
       "      <td>Other</td>\n",
       "      <td>49765</td>\n",
       "    </tr>\n",
       "    <tr>\n",
       "      <th>Date</th>\n",
       "      <td>362806</td>\n",
       "      <td>4524</td>\n",
       "      <td>10/29/2007</td>\n",
       "      <td>404</td>\n",
       "    </tr>\n",
       "    <tr>\n",
       "      <th>Drug</th>\n",
       "      <td>362806</td>\n",
       "      <td>7093</td>\n",
       "      <td>cymbalta</td>\n",
       "      <td>4648</td>\n",
       "    </tr>\n",
       "    <tr>\n",
       "      <th>Reviews</th>\n",
       "      <td>362769</td>\n",
       "      <td>250167</td>\n",
       "      <td></td>\n",
       "      <td>41824</td>\n",
       "    </tr>\n",
       "    <tr>\n",
       "      <th>Sides</th>\n",
       "      <td>362806</td>\n",
       "      <td>1651</td>\n",
       "      <td></td>\n",
       "      <td>17460</td>\n",
       "    </tr>\n",
       "  </tbody>\n",
       "</table>\n",
       "</div>"
      ],
      "text/plain": [
       "            count  unique               top    freq\n",
       "Name       362806  180774     Michael Smith     168\n",
       "Sex        362806       3            Female  238226\n",
       "Race       362806       5  African American   73205\n",
       "Age        362806      12             45-54   80043\n",
       "Condition  362806    1806             Other   49765\n",
       "Date       362806    4524        10/29/2007     404\n",
       "Drug       362806    7093          cymbalta    4648\n",
       "Reviews    362769  250167                     41824\n",
       "Sides      362806    1651                     17460"
      ]
     },
     "execution_count": 17,
     "metadata": {},
     "output_type": "execute_result"
    }
   ],
   "source": [
    "df.describe(include='object').T"
   ]
  },
  {
   "cell_type": "code",
   "execution_count": 18,
   "id": "17d5ca46",
   "metadata": {},
   "outputs": [
    {
     "data": {
      "text/html": [
       "<div>\n",
       "<style scoped>\n",
       "    .dataframe tbody tr th:only-of-type {\n",
       "        vertical-align: middle;\n",
       "    }\n",
       "\n",
       "    .dataframe tbody tr th {\n",
       "        vertical-align: top;\n",
       "    }\n",
       "\n",
       "    .dataframe thead th {\n",
       "        text-align: right;\n",
       "    }\n",
       "</style>\n",
       "<table border=\"1\" class=\"dataframe\">\n",
       "  <thead>\n",
       "    <tr style=\"text-align: right;\">\n",
       "      <th></th>\n",
       "      <th>count</th>\n",
       "      <th>mean</th>\n",
       "      <th>std</th>\n",
       "      <th>min</th>\n",
       "      <th>25%</th>\n",
       "      <th>50%</th>\n",
       "      <th>75%</th>\n",
       "      <th>max</th>\n",
       "    </tr>\n",
       "  </thead>\n",
       "  <tbody>\n",
       "    <tr>\n",
       "      <th>DrugId</th>\n",
       "      <td>362806.0</td>\n",
       "      <td>36879.370774</td>\n",
       "      <td>52624.412971</td>\n",
       "      <td>1.0</td>\n",
       "      <td>4896.0</td>\n",
       "      <td>9548.0</td>\n",
       "      <td>63522.0</td>\n",
       "      <td>178546.0</td>\n",
       "    </tr>\n",
       "    <tr>\n",
       "      <th>EaseofUse</th>\n",
       "      <td>362806.0</td>\n",
       "      <td>4.019829</td>\n",
       "      <td>1.317711</td>\n",
       "      <td>1.0</td>\n",
       "      <td>3.0</td>\n",
       "      <td>5.0</td>\n",
       "      <td>5.0</td>\n",
       "      <td>10.0</td>\n",
       "    </tr>\n",
       "    <tr>\n",
       "      <th>Effectiveness</th>\n",
       "      <td>362806.0</td>\n",
       "      <td>3.532061</td>\n",
       "      <td>1.455961</td>\n",
       "      <td>1.0</td>\n",
       "      <td>3.0</td>\n",
       "      <td>4.0</td>\n",
       "      <td>5.0</td>\n",
       "      <td>10.0</td>\n",
       "    </tr>\n",
       "    <tr>\n",
       "      <th>Satisfaction</th>\n",
       "      <td>362806.0</td>\n",
       "      <td>3.135408</td>\n",
       "      <td>1.611106</td>\n",
       "      <td>1.0</td>\n",
       "      <td>1.0</td>\n",
       "      <td>3.0</td>\n",
       "      <td>5.0</td>\n",
       "      <td>10.0</td>\n",
       "    </tr>\n",
       "    <tr>\n",
       "      <th>UsefulCount</th>\n",
       "      <td>362806.0</td>\n",
       "      <td>6.744916</td>\n",
       "      <td>9.324240</td>\n",
       "      <td>0.0</td>\n",
       "      <td>1.0</td>\n",
       "      <td>4.0</td>\n",
       "      <td>9.0</td>\n",
       "      <td>255.0</td>\n",
       "    </tr>\n",
       "  </tbody>\n",
       "</table>\n",
       "</div>"
      ],
      "text/plain": [
       "                  count          mean           std  min     25%     50%  \\\n",
       "DrugId         362806.0  36879.370774  52624.412971  1.0  4896.0  9548.0   \n",
       "EaseofUse      362806.0      4.019829      1.317711  1.0     3.0     5.0   \n",
       "Effectiveness  362806.0      3.532061      1.455961  1.0     3.0     4.0   \n",
       "Satisfaction   362806.0      3.135408      1.611106  1.0     1.0     3.0   \n",
       "UsefulCount    362806.0      6.744916      9.324240  0.0     1.0     4.0   \n",
       "\n",
       "                   75%       max  \n",
       "DrugId         63522.0  178546.0  \n",
       "EaseofUse          5.0      10.0  \n",
       "Effectiveness      5.0      10.0  \n",
       "Satisfaction       5.0      10.0  \n",
       "UsefulCount        9.0     255.0  "
      ]
     },
     "execution_count": 18,
     "metadata": {},
     "output_type": "execute_result"
    }
   ],
   "source": [
    "df.describe().T"
   ]
  },
  {
   "cell_type": "code",
   "execution_count": 19,
   "id": "1a672708",
   "metadata": {},
   "outputs": [
    {
     "data": {
      "text/plain": [
       "Index(['Name', 'Sex', 'Race', 'Age', 'Condition', 'Date', 'Drug', 'DrugId',\n",
       "       'EaseofUse', 'Effectiveness', 'Reviews', 'Satisfaction', 'Sides',\n",
       "       'UsefulCount'],\n",
       "      dtype='object')"
      ]
     },
     "execution_count": 19,
     "metadata": {},
     "output_type": "execute_result"
    }
   ],
   "source": [
    "df.columns"
   ]
  },
  {
   "cell_type": "code",
   "execution_count": 20,
   "id": "e1cf3810",
   "metadata": {},
   "outputs": [
    {
     "name": "stdout",
     "output_type": "stream",
     "text": [
      "Name : 180774 \n",
      "\n",
      "Sex : 3 \n",
      "\n",
      "Race : 5 \n",
      "\n",
      "Age : 12 \n",
      "\n",
      "Condition : 1806 \n",
      "\n",
      "Date : 4524 \n",
      "\n",
      "Drug : 7093 \n",
      "\n",
      "DrugId : 6572 \n",
      "\n",
      "EaseofUse : 7 \n",
      "\n",
      "Effectiveness : 7 \n",
      "\n",
      "Reviews : 250167 \n",
      "\n",
      "Satisfaction : 7 \n",
      "\n",
      "Sides : 1651 \n",
      "\n",
      "UsefulCount : 148 \n",
      "\n"
     ]
    }
   ],
   "source": [
    "for i in df.columns:\n",
    "    print(i,':',df[i].nunique(),'\\n')"
   ]
  },
  {
   "cell_type": "code",
   "execution_count": 21,
   "id": "8af0bd69",
   "metadata": {},
   "outputs": [
    {
     "data": {
      "text/plain": [
       "Michael Smith       168\n",
       "Michael Williams    131\n",
       "James Smith         123\n",
       "Jennifer Smith      120\n",
       "David Smith         118\n",
       "                   ... \n",
       "Latoya Fox            1\n",
       "Walter Marks          1\n",
       "Debra Long            1\n",
       "Cody Mendoza          1\n",
       "Chris Gill MD         1\n",
       "Name: Name, Length: 180774, dtype: int64"
      ]
     },
     "execution_count": 21,
     "metadata": {},
     "output_type": "execute_result"
    }
   ],
   "source": [
    "df['Name'].value_counts()"
   ]
  },
  {
   "cell_type": "code",
   "execution_count": 22,
   "id": "7c6e3d51",
   "metadata": {},
   "outputs": [
    {
     "data": {
      "text/plain": [
       "Female    238226\n",
       "Male       98043\n",
       "           26537\n",
       "Name: Sex, dtype: int64"
      ]
     },
     "execution_count": 22,
     "metadata": {},
     "output_type": "execute_result"
    }
   ],
   "source": [
    "df['Sex'].value_counts()"
   ]
  },
  {
   "cell_type": "code",
   "execution_count": 23,
   "id": "15c30782",
   "metadata": {},
   "outputs": [
    {
     "data": {
      "text/plain": [
       "African American    73205\n",
       "Caucasian           72562\n",
       "American            72547\n",
       "Hispanic            72337\n",
       "Asian               72155\n",
       "Name: Race, dtype: int64"
      ]
     },
     "execution_count": 23,
     "metadata": {},
     "output_type": "execute_result"
    }
   ],
   "source": [
    "df['Race'].value_counts()"
   ]
  },
  {
   "cell_type": "code",
   "execution_count": 24,
   "id": "35aa6ad0",
   "metadata": {},
   "outputs": [
    {
     "data": {
      "text/plain": [
       "45-54         80043\n",
       "55-64         75136\n",
       "35-44         55011\n",
       "25-34         49718\n",
       "65-74         41216\n",
       "19-24         24230\n",
       "75 or over    15226\n",
       "              12202\n",
       "13-18          7045\n",
       "7-12           1644\n",
       "3-6             838\n",
       "0-2             497\n",
       "Name: Age, dtype: int64"
      ]
     },
     "execution_count": 24,
     "metadata": {},
     "output_type": "execute_result"
    }
   ],
   "source": [
    "df['Age'].value_counts()"
   ]
  },
  {
   "cell_type": "code",
   "execution_count": 25,
   "id": "6abe9a2a",
   "metadata": {},
   "outputs": [
    {
     "data": {
      "text/plain": [
       "Other                                                  49765\n",
       "Pain                                                   25232\n",
       "High Blood Pressure                                    23275\n",
       "Depression                                             14509\n",
       "Birth Control                                          12253\n",
       "                                                       ...  \n",
       "Diagnostic Test for Myasthenia Gravis                      1\n",
       "Myelodysplastic Syndrome with 5q Deletion Gene Type        1\n",
       "Hunter Syndrome                                            1\n",
       "Increased Uric Acid due to Cancer Chemotherapy             1\n",
       "Adverse Effect of Benzodiazepine-Based Tranquilizer        1\n",
       "Name: Condition, Length: 1806, dtype: int64"
      ]
     },
     "execution_count": 25,
     "metadata": {},
     "output_type": "execute_result"
    }
   ],
   "source": [
    "df['Condition'].value_counts()"
   ]
  },
  {
   "cell_type": "code",
   "execution_count": 26,
   "id": "50366b37",
   "metadata": {},
   "outputs": [
    {
     "data": {
      "text/plain": [
       "10/29/2007    404\n",
       "10/30/2007    316\n",
       "10/28/2007    315\n",
       "3/15/2010     308\n",
       "3/16/2010     295\n",
       "             ... \n",
       "10/19/2019      2\n",
       "10/27/2019      1\n",
       "10/20/2019      1\n",
       "6/28/2019       1\n",
       "6/22/2019       1\n",
       "Name: Date, Length: 4524, dtype: int64"
      ]
     },
     "execution_count": 26,
     "metadata": {},
     "output_type": "execute_result"
    }
   ],
   "source": [
    "df['Date'].value_counts()"
   ]
  },
  {
   "cell_type": "code",
   "execution_count": 27,
   "id": "523208cf",
   "metadata": {},
   "outputs": [
    {
     "data": {
      "text/plain": [
       "cymbalta                               4648\n",
       "lisinopril                             4269\n",
       "lisinopril solution                    4269\n",
       "lexapro                                4134\n",
       "hydrocodone-acetaminophen              3944\n",
       "                                       ... \n",
       "sorbsan bandage                           1\n",
       "sorbsan topical wound dressing 3\" x       1\n",
       "q-pap extra strength                      1\n",
       "symax                                     1\n",
       "vanadium granules                         1\n",
       "Name: Drug, Length: 7093, dtype: int64"
      ]
     },
     "execution_count": 27,
     "metadata": {},
     "output_type": "execute_result"
    }
   ],
   "source": [
    "df['Drug'].value_counts()"
   ]
  },
  {
   "cell_type": "code",
   "execution_count": 28,
   "id": "16ae9433",
   "metadata": {},
   "outputs": [
    {
     "data": {
      "text/plain": [
       "6873      8538\n",
       "1025      7868\n",
       "6007      7728\n",
       "4398      5864\n",
       "14208     5451\n",
       "          ... \n",
       "4118         1\n",
       "165948       1\n",
       "54215        1\n",
       "154021       1\n",
       "149247       1\n",
       "Name: DrugId, Length: 6572, dtype: int64"
      ]
     },
     "execution_count": 28,
     "metadata": {},
     "output_type": "execute_result"
    }
   ],
   "source": [
    "df['DrugId'].value_counts()"
   ]
  },
  {
   "cell_type": "code",
   "execution_count": 29,
   "id": "62a4b62c",
   "metadata": {},
   "outputs": [
    {
     "data": {
      "text/plain": [
       "5     192650\n",
       "4      74732\n",
       "3      41303\n",
       "1      35927\n",
       "2      18191\n",
       "6          2\n",
       "10         1\n",
       "Name: EaseofUse, dtype: int64"
      ]
     },
     "execution_count": 29,
     "metadata": {},
     "output_type": "execute_result"
    }
   ],
   "source": [
    "df['EaseofUse'].value_counts()"
   ]
  },
  {
   "cell_type": "code",
   "execution_count": 30,
   "id": "03ff4c2a",
   "metadata": {},
   "outputs": [
    {
     "data": {
      "text/plain": [
       "5     130388\n",
       "4      81821\n",
       "3      60406\n",
       "1      59387\n",
       "2      30801\n",
       "6          2\n",
       "10         1\n",
       "Name: Effectiveness, dtype: int64"
      ]
     },
     "execution_count": 30,
     "metadata": {},
     "output_type": "execute_result"
    }
   ],
   "source": [
    "df['Effectiveness'].value_counts()"
   ]
  },
  {
   "cell_type": "code",
   "execution_count": 31,
   "id": "a020d402",
   "metadata": {},
   "outputs": [
    {
     "data": {
      "text/plain": [
       "                                                                                                                                                                                                                                                                                                                                                                                                                                                                                                                                                                                                                                                                           41824\n",
       "good                                                                                                                                                                                                                                                                                                                                                                                                                                                                                                                                                                                                                                                                         183\n",
       "this treatment is awsome.  I love drugs.                                                                                                                                                                                                                                                                                                                                                                                                                                                                                                                                                                                                                                     172\n",
       "This drug is awesome.  I love drugs.                                                                                                                                                                                                                                                                                                                                                                                                                                                                                                                                                                                                                                         128\n",
       "No Script or health Insurance needed to place and order with 10% discount for all purchased. It was nice to have some from them, I just hit them at. WhatsApp only:+1(775)7735306,\\nCall/Text:+1(775)7735306,\\nWickr or Kik: peterking2014.\\nEmail: peterkings2014@gmail.com.\\nMessage code: (Med16) Discreet Delivery                                                                                                                                                                                                                                                                                                                                                        90\n",
       "                                                                                                                                                                                                                                                                                                                                                                                                                                                                                                                                                                                                                                                                           ...  \n",
       "OMG!! Is this shot painful or what!! Received Synvisc-one yesterday and almost passed out from the pain. Only one knee was causing me alot of problems and the other one was just starting to. Now, after receiving an injection in both knees, I am having to rely on crutches and pain meds. It feels like someone stuffed a rubber eraser under both my kneecaps. When is this nightmare going to get better? I was optimistic that relief would happen after I left the doctor's office. The only thing lighter was my check book. I think inject 6ml of thick gel is too much to do at one time. I'll have to give it some time before I EVER go thru this again.         1\n",
       "Just take it now for 3 weeks\\nFeel a little better but still had a little weightgain. muscle  hurting.But overall feel better.                                                                                                                                                                                                                                                                                                                                                                                                                                                                                                                                                 1\n",
       "This has been a miracle drug for.  Yes I gained some wieght, but it was well worth it.  For the first time in years, I am not suicidal and I don't have sickening thoughts.  This medication has helped my greatly.                                                                                                                                                                                                                                                                                                                                                                                                                                                            1\n",
       "worked quickly, got out of bed and had energy for first time in months.                                                                                                                                                                                                                                                                                                                                                                                                                                                                                                                                                                                                        1\n",
       "One year ago, I tried Chantix and had to stop taking it because I was so nauseous in the morning.  Three weeks ago I started it again and found that if I eat 10 minutes before taking the pill, I don't get nauseous at all.  I have been smoke free for two weeks and will never smoke again.                                                                                                                                                                                                                                                                                                                                                                                1\n",
       "Name: Reviews, Length: 250167, dtype: int64"
      ]
     },
     "execution_count": 31,
     "metadata": {},
     "output_type": "execute_result"
    }
   ],
   "source": [
    "df['Reviews'].value_counts()"
   ]
  },
  {
   "cell_type": "code",
   "execution_count": 32,
   "id": "5fd74c73",
   "metadata": {},
   "outputs": [
    {
     "data": {
      "text/plain": [
       "5     111550\n",
       "1     100901\n",
       "4      63158\n",
       "3      51852\n",
       "2      35342\n",
       "6          2\n",
       "10         1\n",
       "Name: Satisfaction, dtype: int64"
      ]
     },
     "execution_count": 32,
     "metadata": {},
     "output_type": "execute_result"
    }
   ],
   "source": [
    "df['Satisfaction'].value_counts()"
   ]
  },
  {
   "cell_type": "code",
   "execution_count": 33,
   "id": "e787876d",
   "metadata": {},
   "outputs": [
    {
     "data": {
      "text/plain": [
       "                                                                                                                                                       17460\n",
       "Nausea ,  vomiting ,  constipation ,  lightheadedness ,  dizziness , or drowsiness may occur.                                                          15563\n",
       "Nausea ,  vomiting ,  headache ,  bloating ,  breast  tenderness, swelling of the  ankles /feet (fluid retention), or  weight  change may occur.       12116\n",
       "Dizziness ,  lightheadedness , tiredness, or  headache  may occur as your body adjusts to the  medication . Dry  cough  may also occur.                 9162\n",
       "Drowsiness,  dizziness , loss of coordination, tiredness, blurred/ double vision , unusual  eye  movements, or shaking (tremor) may occur.              7790\n",
       "                                                                                                                                                       ...  \n",
       "Nausea ,  vomiting ,  stomach / abdominal pain , gas,  diarrhea ,  weight loss ,  headache ,  muscle cramps ,  dizziness , or  weakness  may occur.        1\n",
       "Headache ,  nausea , chills, or fever may occur.                                                                                                           1\n",
       "Nausea ,  vomiting ,  diarrhea , abdominal/ stomach pain ,  cough ,  dizziness ,  headache , flushing, or loss of appetite may occur.                      1\n",
       "Mild  skin  burning, redness, and peeling of the treated area may occur as expected.                                                                       1\n",
       "Diarrhea ,  nausea , or  heartburn  may occur.                                                                                                             1\n",
       "Name: Sides, Length: 1651, dtype: int64"
      ]
     },
     "execution_count": 33,
     "metadata": {},
     "output_type": "execute_result"
    }
   ],
   "source": [
    "df['Sides'].value_counts()"
   ]
  },
  {
   "cell_type": "code",
   "execution_count": 40,
   "id": "b6498d02",
   "metadata": {},
   "outputs": [
    {
     "data": {
      "image/png": "[encoded data removed]",
      "text/plain": [
       "<Figure size 800x600 with 1 Axes>"
      ]
     },
     "metadata": {},
     "output_type": "display_data"
    }
   ],
   "source": [
    "# Distribution of Age\n",
    "plt.figure(figsize=(8, 6))\n",
    "sns.histplot(data=df, x='Age')\n",
    "plt.title('Distribution of Age')\n",
    "plt.xlabel('Age')\n",
    "plt.ylabel('Frequency')\n",
    "plt.show()"
   ]
  },
  {
   "cell_type": "code",
   "execution_count": null,
   "id": "2a4fd4eb",
   "metadata": {},
   "outputs": [],
   "source": []
  },
  {
   "cell_type": "code",
   "execution_count": 35,
   "id": "29f84eab",
   "metadata": {},
   "outputs": [
    {
     "data": {
      "image/png": "[encoded data removed]",
      "text/plain": [
       "<Figure size 800x600 with 1 Axes>"
      ]
     },
     "metadata": {},
     "output_type": "display_data"
    }
   ],
   "source": [
    "plt.figure(figsize=(8, 6))\n",
    "sns.countplot(data=df, x='Sex', palette='Set3')\n",
    "plt.title('Distribution of Gender')\n",
    "plt.xlabel('Gender')\n",
    "plt.ylabel('Count')\n",
    "plt.show()\n"
   ]
  },
  {
   "cell_type": "code",
   "execution_count": 36,
   "id": "9565296f",
   "metadata": {},
   "outputs": [
    {
     "data": {
      "image/png": "[encoded data removed]",
      "text/plain": [
       "<Figure size 800x600 with 1 Axes>"
      ]
     },
     "metadata": {},
     "output_type": "display_data"
    }
   ],
   "source": [
    "# Count of Patients by Race\n",
    "\n",
    "plt.figure(figsize=(8, 6))\n",
    "sns.countplot(data=df, x='Race')\n",
    "plt.title('Count of Patients by Race')\n",
    "plt.xlabel('Race')\n",
    "plt.ylabel('Count')\n",
    "plt.xticks(rotation=45)\n",
    "plt.show()"
   ]
  },
  {
   "cell_type": "code",
   "execution_count": 37,
   "id": "70e35d63",
   "metadata": {},
   "outputs": [
    {
     "data": {
      "image/png": "[encoded data removed]",
      "text/plain": [
       "<Figure size 1000x800 with 1 Axes>"
      ]
     },
     "metadata": {},
     "output_type": "display_data"
    }
   ],
   "source": [
    "# Top 20 Drugs\n",
    "top_drugs = df['Drug'].value_counts().head(20)\n",
    "\n",
    "plt.figure(figsize=(10, 8))\n",
    "sns.barplot(x=top_drugs.values, y=top_drugs.index, palette='Set3')\n",
    "plt.title(\"Top 20 Drugs\")\n",
    "plt.xlabel(\"Count\")\n",
    "plt.ylabel(\"Drug\")\n",
    "plt.xticks(fontsize=10)  \n",
    "plt.yticks(fontsize=10) \n",
    "plt.show()\n"
   ]
  },
  {
   "cell_type": "code",
   "execution_count": 42,
   "id": "a62fd1f2",
   "metadata": {},
   "outputs": [
    {
     "data": {
      "image/png": "[encoded data removed]",
      "text/plain": [
       "<Figure size 1000x600 with 1 Axes>"
      ]
     },
     "metadata": {},
     "output_type": "display_data"
    }
   ],
   "source": [
    "top_conditions = df['Condition'].value_counts().head(20)\n",
    "\n",
    "plt.figure(figsize=(10, 6))\n",
    "sns.barplot(x=top_conditions.index, y=top_conditions.values, palette='Set3')\n",
    "plt.title('common conditions')\n",
    "plt.xlabel('Condition')\n",
    "plt.ylabel('Count')\n",
    "plt.xticks(rotation=90, fontsize=10)\n",
    "plt.show()\n"
   ]
  },
  {
   "cell_type": "code",
   "execution_count": 50,
   "id": "5eb6b280",
   "metadata": {},
   "outputs": [
    {
     "data": {
      "image/png": "[encoded data removed]",
      "text/plain": [
       "<Figure size 800x600 with 1 Axes>"
      ]
     },
     "metadata": {},
     "output_type": "display_data"
    }
   ],
   "source": [
    "plt.figure(figsize=(8, 6))\n",
    "sns.countplot(data=df, x='Effectiveness')\n",
    "plt.title('Effectiveness of Drugs')\n",
    "plt.xlabel('Effectiveness')\n",
    "plt.ylabel('Count')\n",
    "plt.show()\n"
   ]
  },
  {
   "cell_type": "code",
   "execution_count": 48,
   "id": "5035dc6c",
   "metadata": {},
   "outputs": [
    {
     "name": "stderr",
     "output_type": "stream",
     "text": [
      "C:\\Users\\user\\AppData\\Local\\Temp\\ipykernel_1220\\4170501485.py:2: FutureWarning: \n",
      "\n",
      "The `ci` parameter is deprecated. Use `errorbar=None` for the same effect.\n",
      "\n",
      "  sns.pointplot(x='Age', y='Effectiveness', data=df, ax=ax, ci=None)\n"
     ]
    },
    {
     "data": {
      "image/png": "[encoded data removed]",
      "text/plain": [
       "<Figure size 1600x600 with 1 Axes>"
      ]
     },
     "metadata": {},
     "output_type": "display_data"
    }
   ],
   "source": [
    "fig, ax = plt.subplots(figsize=(16, 6))\n",
    "sns.pointplot(x='Age', y='Effectiveness', data=df, ax=ax, ci=None)\n",
    "ax.set_title('Age vs Effectiveness')\n",
    "ax.set_xlabel('Age')\n",
    "ax.set_ylabel('Effectiveness')\n",
    "plt.show()\n"
   ]
  },
  {
   "cell_type": "markdown",
   "id": "ad590fd9",
   "metadata": {},
   "source": [
    "# 'Lexapro' is selected in building a classification model to determine side effects."
   ]
  },
  {
   "cell_type": "code",
   "execution_count": 54,
   "id": "206026c6",
   "metadata": {},
   "outputs": [
    {
     "data": {
      "text/html": [
       "<div>\n",
       "<style scoped>\n",
       "    .dataframe tbody tr th:only-of-type {\n",
       "        vertical-align: middle;\n",
       "    }\n",
       "\n",
       "    .dataframe tbody tr th {\n",
       "        vertical-align: top;\n",
       "    }\n",
       "\n",
       "    .dataframe thead th {\n",
       "        text-align: right;\n",
       "    }\n",
       "</style>\n",
       "<table border=\"1\" class=\"dataframe\">\n",
       "  <thead>\n",
       "    <tr style=\"text-align: right;\">\n",
       "      <th></th>\n",
       "      <th>Name</th>\n",
       "      <th>Sex</th>\n",
       "      <th>Race</th>\n",
       "      <th>Age</th>\n",
       "      <th>Condition</th>\n",
       "      <th>Date</th>\n",
       "      <th>Drug</th>\n",
       "      <th>DrugId</th>\n",
       "      <th>EaseofUse</th>\n",
       "      <th>Effectiveness</th>\n",
       "      <th>Reviews</th>\n",
       "      <th>Satisfaction</th>\n",
       "      <th>Sides</th>\n",
       "      <th>UsefulCount</th>\n",
       "    </tr>\n",
       "  </thead>\n",
       "  <tbody>\n",
       "    <tr>\n",
       "      <th>28803</th>\n",
       "      <td>Kelly Kelly</td>\n",
       "      <td>Female</td>\n",
       "      <td>African American</td>\n",
       "      <td>35-44</td>\n",
       "      <td>Anxiousness associated with Depression</td>\n",
       "      <td>2/6/2020</td>\n",
       "      <td>lexapro</td>\n",
       "      <td>63990</td>\n",
       "      <td>1</td>\n",
       "      <td>1</td>\n",
       "      <td>I got horrible brain zaps and very graphic tra...</td>\n",
       "      <td>1</td>\n",
       "      <td>Nausea ,  dry mouth ,  trouble sleeping ,  con...</td>\n",
       "      <td>0</td>\n",
       "    </tr>\n",
       "    <tr>\n",
       "      <th>28809</th>\n",
       "      <td>Sandra Stevens</td>\n",
       "      <td>Female</td>\n",
       "      <td>American</td>\n",
       "      <td></td>\n",
       "      <td>\"Change of Life\" Signs</td>\n",
       "      <td>1/23/2020</td>\n",
       "      <td>lexapro</td>\n",
       "      <td>63990</td>\n",
       "      <td>3</td>\n",
       "      <td>2</td>\n",
       "      <td>Blah</td>\n",
       "      <td>1</td>\n",
       "      <td>Nausea ,  dry mouth ,  trouble sleeping ,  con...</td>\n",
       "      <td>0</td>\n",
       "    </tr>\n",
       "    <tr>\n",
       "      <th>28817</th>\n",
       "      <td>Dawn Stark</td>\n",
       "      <td>Male</td>\n",
       "      <td>African American</td>\n",
       "      <td>55-64</td>\n",
       "      <td>Depression</td>\n",
       "      <td>1/23/2020</td>\n",
       "      <td>lexapro</td>\n",
       "      <td>63990</td>\n",
       "      <td>5</td>\n",
       "      <td>3</td>\n",
       "      <td>It has helped my depression but not my anxiety...</td>\n",
       "      <td>3</td>\n",
       "      <td>Nausea ,  dry mouth ,  trouble sleeping ,  con...</td>\n",
       "      <td>0</td>\n",
       "    </tr>\n",
       "    <tr>\n",
       "      <th>28826</th>\n",
       "      <td>Julian Brock</td>\n",
       "      <td>Female</td>\n",
       "      <td>American</td>\n",
       "      <td>65-74</td>\n",
       "      <td>Depression</td>\n",
       "      <td>1/21/2020</td>\n",
       "      <td>lexapro</td>\n",
       "      <td>63990</td>\n",
       "      <td>3</td>\n",
       "      <td>1</td>\n",
       "      <td>Was nauseated almost immediately. Diareaha and...</td>\n",
       "      <td>1</td>\n",
       "      <td>Nausea ,  dry mouth ,  trouble sleeping ,  con...</td>\n",
       "      <td>0</td>\n",
       "    </tr>\n",
       "    <tr>\n",
       "      <th>28834</th>\n",
       "      <td>Billy Williams</td>\n",
       "      <td>Female</td>\n",
       "      <td>Asian</td>\n",
       "      <td>75 or over</td>\n",
       "      <td>Anxiousness associated with Depression</td>\n",
       "      <td>12/27/2019</td>\n",
       "      <td>lexapro</td>\n",
       "      <td>63990</td>\n",
       "      <td>4</td>\n",
       "      <td>2</td>\n",
       "      <td>haven't seen much difference.</td>\n",
       "      <td>2</td>\n",
       "      <td>Nausea ,  dry mouth ,  trouble sleeping ,  con...</td>\n",
       "      <td>0</td>\n",
       "    </tr>\n",
       "  </tbody>\n",
       "</table>\n",
       "</div>"
      ],
      "text/plain": [
       "                 Name     Sex              Race         Age  \\\n",
       "28803     Kelly Kelly  Female  African American       35-44   \n",
       "28809  Sandra Stevens  Female          American               \n",
       "28817      Dawn Stark    Male  African American       55-64   \n",
       "28826    Julian Brock  Female          American       65-74   \n",
       "28834  Billy Williams  Female             Asian  75 or over   \n",
       "\n",
       "                                    Condition        Date     Drug  DrugId  \\\n",
       "28803  Anxiousness associated with Depression    2/6/2020  lexapro   63990   \n",
       "28809                  \"Change of Life\" Signs   1/23/2020  lexapro   63990   \n",
       "28817                              Depression   1/23/2020  lexapro   63990   \n",
       "28826                              Depression   1/21/2020  lexapro   63990   \n",
       "28834  Anxiousness associated with Depression  12/27/2019  lexapro   63990   \n",
       "\n",
       "       EaseofUse  Effectiveness  \\\n",
       "28803          1              1   \n",
       "28809          3              2   \n",
       "28817          5              3   \n",
       "28826          3              1   \n",
       "28834          4              2   \n",
       "\n",
       "                                                 Reviews  Satisfaction  \\\n",
       "28803  I got horrible brain zaps and very graphic tra...             1   \n",
       "28809                                               Blah             1   \n",
       "28817  It has helped my depression but not my anxiety...             3   \n",
       "28826  Was nauseated almost immediately. Diareaha and...             1   \n",
       "28834                      haven't seen much difference.             2   \n",
       "\n",
       "                                                   Sides  UsefulCount  \n",
       "28803  Nausea ,  dry mouth ,  trouble sleeping ,  con...            0  \n",
       "28809  Nausea ,  dry mouth ,  trouble sleeping ,  con...            0  \n",
       "28817  Nausea ,  dry mouth ,  trouble sleeping ,  con...            0  \n",
       "28826  Nausea ,  dry mouth ,  trouble sleeping ,  con...            0  \n",
       "28834  Nausea ,  dry mouth ,  trouble sleeping ,  con...            0  "
      ]
     },
     "execution_count": 54,
     "metadata": {},
     "output_type": "execute_result"
    }
   ],
   "source": [
    "lexapro= df.loc[(df['Drug'] =='lexapro')]\n",
    "lexapro.head()"
   ]
  },
  {
   "cell_type": "code",
   "execution_count": 55,
   "id": "07f5df4a",
   "metadata": {},
   "outputs": [
    {
     "data": {
      "text/plain": [
       "(4134, 14)"
      ]
     },
     "execution_count": 55,
     "metadata": {},
     "output_type": "execute_result"
    }
   ],
   "source": [
    "lexapro.shape"
   ]
  },
  {
   "cell_type": "code",
   "execution_count": 59,
   "id": "a88741c1",
   "metadata": {},
   "outputs": [
    {
     "data": {
      "text/plain": [
       "Depression                                1920\n",
       "Repeated Episodes of Anxiety               921\n",
       "Panic Disorder                             311\n",
       "Other                                      244\n",
       "Major Depressive Disorder                  194\n",
       "Bipolar Depression                         192\n",
       "\"Change of Life\" Signs                     146\n",
       "Posttraumatic Stress Syndrome               89\n",
       "Obsessive Compulsive Disorder               69\n",
       "Anxiousness associated with Depression      47\n",
       "                                             1\n",
       "Name: Condition, dtype: int64"
      ]
     },
     "execution_count": 59,
     "metadata": {},
     "output_type": "execute_result"
    }
   ],
   "source": [
    "lexapro['Condition'].value_counts()"
   ]
  },
  {
   "cell_type": "code",
   "execution_count": 61,
   "id": "0cef4e8f",
   "metadata": {},
   "outputs": [],
   "source": [
    "df_new = lexapro.copy()"
   ]
  },
  {
   "cell_type": "code",
   "execution_count": 63,
   "id": "655dce5b",
   "metadata": {},
   "outputs": [],
   "source": [
    "df_copy = df.copy"
   ]
  },
  {
   "cell_type": "markdown",
   "id": "4e3010c1",
   "metadata": {},
   "source": [
    "# Preprocessing"
   ]
  },
  {
   "cell_type": "code",
   "execution_count": null,
   "id": "e347863f",
   "metadata": {},
   "outputs": [],
   "source": [
    "#treating blank spaces\n",
    "\n",
    "for column in df_new.columns:\n",
    "    df_new[column] = np.where(df_new[column].str.strip() == \"\", np.nan, df_new[column])\n"
   ]
  },
  {
   "cell_type": "code",
   "execution_count": 64,
   "id": "ae5ad2be",
   "metadata": {},
   "outputs": [
    {
     "data": {
      "text/html": [
       "<div>\n",
       "<style scoped>\n",
       "    .dataframe tbody tr th:only-of-type {\n",
       "        vertical-align: middle;\n",
       "    }\n",
       "\n",
       "    .dataframe tbody tr th {\n",
       "        vertical-align: top;\n",
       "    }\n",
       "\n",
       "    .dataframe thead th {\n",
       "        text-align: right;\n",
       "    }\n",
       "</style>\n",
       "<table border=\"1\" class=\"dataframe\">\n",
       "  <thead>\n",
       "    <tr style=\"text-align: right;\">\n",
       "      <th></th>\n",
       "      <th>Name</th>\n",
       "      <th>Sex</th>\n",
       "      <th>Race</th>\n",
       "      <th>Age</th>\n",
       "      <th>Condition</th>\n",
       "      <th>Date</th>\n",
       "      <th>Drug</th>\n",
       "      <th>DrugId</th>\n",
       "      <th>EaseofUse</th>\n",
       "      <th>Effectiveness</th>\n",
       "      <th>Reviews</th>\n",
       "      <th>Satisfaction</th>\n",
       "      <th>Sides</th>\n",
       "      <th>UsefulCount</th>\n",
       "    </tr>\n",
       "  </thead>\n",
       "  <tbody>\n",
       "    <tr>\n",
       "      <th>28803</th>\n",
       "      <td>Kelly Kelly</td>\n",
       "      <td>Female</td>\n",
       "      <td>African American</td>\n",
       "      <td>35-44</td>\n",
       "      <td>Anxiousness associated with Depression</td>\n",
       "      <td>2/6/2020</td>\n",
       "      <td>lexapro</td>\n",
       "      <td>63990</td>\n",
       "      <td>1</td>\n",
       "      <td>1</td>\n",
       "      <td>I got horrible brain zaps and very graphic tra...</td>\n",
       "      <td>1</td>\n",
       "      <td>Nausea ,  dry mouth ,  trouble sleeping ,  con...</td>\n",
       "      <td>0</td>\n",
       "    </tr>\n",
       "    <tr>\n",
       "      <th>28809</th>\n",
       "      <td>Sandra Stevens</td>\n",
       "      <td>Female</td>\n",
       "      <td>American</td>\n",
       "      <td></td>\n",
       "      <td>\"Change of Life\" Signs</td>\n",
       "      <td>1/23/2020</td>\n",
       "      <td>lexapro</td>\n",
       "      <td>63990</td>\n",
       "      <td>3</td>\n",
       "      <td>2</td>\n",
       "      <td>Blah</td>\n",
       "      <td>1</td>\n",
       "      <td>Nausea ,  dry mouth ,  trouble sleeping ,  con...</td>\n",
       "      <td>0</td>\n",
       "    </tr>\n",
       "    <tr>\n",
       "      <th>28817</th>\n",
       "      <td>Dawn Stark</td>\n",
       "      <td>Male</td>\n",
       "      <td>African American</td>\n",
       "      <td>55-64</td>\n",
       "      <td>Depression</td>\n",
       "      <td>1/23/2020</td>\n",
       "      <td>lexapro</td>\n",
       "      <td>63990</td>\n",
       "      <td>5</td>\n",
       "      <td>3</td>\n",
       "      <td>It has helped my depression but not my anxiety...</td>\n",
       "      <td>3</td>\n",
       "      <td>Nausea ,  dry mouth ,  trouble sleeping ,  con...</td>\n",
       "      <td>0</td>\n",
       "    </tr>\n",
       "    <tr>\n",
       "      <th>28826</th>\n",
       "      <td>Julian Brock</td>\n",
       "      <td>Female</td>\n",
       "      <td>American</td>\n",
       "      <td>65-74</td>\n",
       "      <td>Depression</td>\n",
       "      <td>1/21/2020</td>\n",
       "      <td>lexapro</td>\n",
       "      <td>63990</td>\n",
       "      <td>3</td>\n",
       "      <td>1</td>\n",
       "      <td>Was nauseated almost immediately. Diareaha and...</td>\n",
       "      <td>1</td>\n",
       "      <td>Nausea ,  dry mouth ,  trouble sleeping ,  con...</td>\n",
       "      <td>0</td>\n",
       "    </tr>\n",
       "    <tr>\n",
       "      <th>28834</th>\n",
       "      <td>Billy Williams</td>\n",
       "      <td>Female</td>\n",
       "      <td>Asian</td>\n",
       "      <td>75 or over</td>\n",
       "      <td>Anxiousness associated with Depression</td>\n",
       "      <td>12/27/2019</td>\n",
       "      <td>lexapro</td>\n",
       "      <td>63990</td>\n",
       "      <td>4</td>\n",
       "      <td>2</td>\n",
       "      <td>haven't seen much difference.</td>\n",
       "      <td>2</td>\n",
       "      <td>Nausea ,  dry mouth ,  trouble sleeping ,  con...</td>\n",
       "      <td>0</td>\n",
       "    </tr>\n",
       "  </tbody>\n",
       "</table>\n",
       "</div>"
      ],
      "text/plain": [
       "                 Name     Sex              Race         Age  \\\n",
       "28803     Kelly Kelly  Female  African American       35-44   \n",
       "28809  Sandra Stevens  Female          American               \n",
       "28817      Dawn Stark    Male  African American       55-64   \n",
       "28826    Julian Brock  Female          American       65-74   \n",
       "28834  Billy Williams  Female             Asian  75 or over   \n",
       "\n",
       "                                    Condition        Date     Drug  DrugId  \\\n",
       "28803  Anxiousness associated with Depression    2/6/2020  lexapro   63990   \n",
       "28809                  \"Change of Life\" Signs   1/23/2020  lexapro   63990   \n",
       "28817                              Depression   1/23/2020  lexapro   63990   \n",
       "28826                              Depression   1/21/2020  lexapro   63990   \n",
       "28834  Anxiousness associated with Depression  12/27/2019  lexapro   63990   \n",
       "\n",
       "       EaseofUse  Effectiveness  \\\n",
       "28803          1              1   \n",
       "28809          3              2   \n",
       "28817          5              3   \n",
       "28826          3              1   \n",
       "28834          4              2   \n",
       "\n",
       "                                                 Reviews  Satisfaction  \\\n",
       "28803  I got horrible brain zaps and very graphic tra...             1   \n",
       "28809                                               Blah             1   \n",
       "28817  It has helped my depression but not my anxiety...             3   \n",
       "28826  Was nauseated almost immediately. Diareaha and...             1   \n",
       "28834                      haven't seen much difference.             2   \n",
       "\n",
       "                                                   Sides  UsefulCount  \n",
       "28803  Nausea ,  dry mouth ,  trouble sleeping ,  con...            0  \n",
       "28809  Nausea ,  dry mouth ,  trouble sleeping ,  con...            0  \n",
       "28817  Nausea ,  dry mouth ,  trouble sleeping ,  con...            0  \n",
       "28826  Nausea ,  dry mouth ,  trouble sleeping ,  con...            0  \n",
       "28834  Nausea ,  dry mouth ,  trouble sleeping ,  con...            0  "
      ]
     },
     "execution_count": 64,
     "metadata": {},
     "output_type": "execute_result"
    }
   ],
   "source": [
    "df_new.head()"
   ]
  },
  {
   "cell_type": "markdown",
   "id": "1a899f86",
   "metadata": {},
   "source": [
    "# Checking for null values"
   ]
  },
  {
   "cell_type": "code",
   "execution_count": 67,
   "id": "b8f6621b",
   "metadata": {},
   "outputs": [
    {
     "data": {
      "text/plain": [
       "Name             0\n",
       "Sex              0\n",
       "Race             0\n",
       "Age              0\n",
       "Condition        0\n",
       "Date             0\n",
       "Drug             0\n",
       "DrugId           0\n",
       "EaseofUse        0\n",
       "Effectiveness    0\n",
       "Reviews          0\n",
       "Satisfaction     0\n",
       "Sides            0\n",
       "UsefulCount      0\n",
       "dtype: int64"
      ]
     },
     "execution_count": 67,
     "metadata": {},
     "output_type": "execute_result"
    }
   ],
   "source": [
    "df_new.isnull().sum()"
   ]
  },
  {
   "cell_type": "markdown",
   "id": "f77c5073",
   "metadata": {},
   "source": [
    "# Text processing"
   ]
  },
  {
   "cell_type": "code",
   "execution_count": 69,
   "id": "6c994b56",
   "metadata": {},
   "outputs": [],
   "source": [
    "# converting rows having data other than string datatype into  string.\n",
    "\n",
    "for i in range(len(df_new)):\n",
    "    if type(df_new.iloc[i]['Sides']) != str:\n",
    "        df_new.at[i, 'Sides'] = str(df_new.iloc[i]['Sides'])\n",
    "\n",
    "for i in range(len(df_new)):\n",
    "    if type(df_new.iloc[i]['Reviews']) != str:\n",
    "        df_new.at[i, 'Reviews'] = str(df_new.iloc[i]['Reviews'])\n",
    "        \n",
    "for i in range(len(df_new)):\n",
    "    if type(df_new.iloc[i]['Condition']) != str:\n",
    "        df_new.at[i, 'Condition'] = str(df_new.iloc[i]['Condition'])\n"
   ]
  },
  {
   "cell_type": "code",
   "execution_count": 70,
   "id": "adad3b8d",
   "metadata": {},
   "outputs": [],
   "source": [
    "import re\n",
    "def cleaning_text(i):\n",
    "    i = re.sub(\"[^A-Za-z\" \"]+\",\" \",i).lower()\n",
    "    i = re.sub(\"[0-9\" \"]+\",\" \",i)\n",
    "    i= re.sub(\"[\\W+\"\"]\", \" \",i)        \n",
    "    w = []\n",
    "    for word in i.split(\" \"):\n",
    "        if len(word)>3:\n",
    "            w.append(word)\n",
    "    return (\" \".join(w))"
   ]
  },
  {
   "cell_type": "markdown",
   "id": "46eec8a2",
   "metadata": {},
   "source": [
    "# Sides"
   ]
  },
  {
   "cell_type": "code",
   "execution_count": 71,
   "id": "949587f1",
   "metadata": {},
   "outputs": [
    {
     "name": "stdout",
     "output_type": "stream",
     "text": [
      "28803    nausea mouth trouble sleeping constipation tir...\n",
      "28809    nausea mouth trouble sleeping constipation tir...\n",
      "28817    nausea mouth trouble sleeping constipation tir...\n",
      "28826    nausea mouth trouble sleeping constipation tir...\n",
      "28834    nausea mouth trouble sleeping constipation tir...\n",
      "                               ...                        \n",
      "35315    nausea mouth trouble sleeping constipation tir...\n",
      "35316    nausea mouth trouble sleeping constipation tir...\n",
      "35317    nausea mouth trouble sleeping constipation tir...\n",
      "35318    nausea mouth trouble sleeping constipation tir...\n",
      "35319    nausea mouth trouble sleeping constipation tir...\n",
      "Name: Sides, Length: 4134, dtype: object\n"
     ]
    }
   ],
   "source": [
    "df_new['Sides'] = df_new['Sides'].apply(cleaning_text)\n",
    "print(df_new['Sides'])\n"
   ]
  },
  {
   "cell_type": "code",
   "execution_count": 72,
   "id": "7d766c3d",
   "metadata": {},
   "outputs": [
    {
     "name": "stderr",
     "output_type": "stream",
     "text": [
      "[nltk_data] Downloading package stopwords to\n",
      "[nltk_data]     C:\\Users\\user\\AppData\\Roaming\\nltk_data...\n",
      "[nltk_data]   Unzipping corpora\\stopwords.zip.\n"
     ]
    }
   ],
   "source": [
    "import nltk\n",
    "nltk.download('stopwords')\n",
    "from nltk.corpus import stopwords\n",
    "\n",
    "stop_words = stopwords.words('english')\n",
    "df_new['Sides'] = df_new['Sides'].apply(lambda x: ' '.join([word for word in x.split() if word not in stop_words]))\n"
   ]
  },
  {
   "cell_type": "code",
   "execution_count": 73,
   "id": "2fa6604b",
   "metadata": {},
   "outputs": [
    {
     "data": {
      "text/plain": [
       "28803    nausea mouth trouble sleeping constipation tir...\n",
       "28809    nausea mouth trouble sleeping constipation tir...\n",
       "28817    nausea mouth trouble sleeping constipation tir...\n",
       "28826    nausea mouth trouble sleeping constipation tir...\n",
       "28834    nausea mouth trouble sleeping constipation tir...\n",
       "                               ...                        \n",
       "35315    nausea mouth trouble sleeping constipation tir...\n",
       "35316    nausea mouth trouble sleeping constipation tir...\n",
       "35317    nausea mouth trouble sleeping constipation tir...\n",
       "35318    nausea mouth trouble sleeping constipation tir...\n",
       "35319    nausea mouth trouble sleeping constipation tir...\n",
       "Name: Sides, Length: 4134, dtype: object"
      ]
     },
     "execution_count": 73,
     "metadata": {},
     "output_type": "execute_result"
    }
   ],
   "source": [
    "df_new['Sides']"
   ]
  },
  {
   "cell_type": "markdown",
   "id": "59a2ae2c",
   "metadata": {},
   "source": [
    "#  Reviews"
   ]
  },
  {
   "cell_type": "code",
   "execution_count": 74,
   "id": "0a8cabff",
   "metadata": {},
   "outputs": [
    {
     "name": "stderr",
     "output_type": "stream",
     "text": [
      "C:\\Users\\user\\AppData\\Local\\Temp\\ipykernel_1220\\2463508707.py:1: UserWarning: Pandas doesn't allow columns to be created via a new attribute name - see https://pandas.pydata.org/pandas-docs/stable/indexing.html#attribute-access\n",
      "  df_new.review= df_new.Reviews.apply(cleaning_text)\n"
     ]
    },
    {
     "data": {
      "text/plain": [
       "28803    horrible brain zaps very graphic tragic dreams...\n",
       "28809                                                 blah\n",
       "28817    helped depression anxiety having trouble sleeping\n",
       "28826    nauseated almost immediately diareaha bedridde...\n",
       "28834                           haven seen much difference\n",
       "                               ...                        \n",
       "35315    have been taking lexapro about weeks medicine ...\n",
       "35316    took lexapro years never significant effects f...\n",
       "35317    while using this medication feel much better f...\n",
       "35318    this drug made feel like should have felt whol...\n",
       "35319    this medication turned easy going into impulsi...\n",
       "Name: Reviews, Length: 4134, dtype: object"
      ]
     },
     "execution_count": 74,
     "metadata": {},
     "output_type": "execute_result"
    }
   ],
   "source": [
    "df_new.review= df_new.Reviews.apply(cleaning_text)\n",
    "df_new.review"
   ]
  },
  {
   "cell_type": "code",
   "execution_count": null,
   "id": "f3e5f925",
   "metadata": {},
   "outputs": [],
   "source": []
  },
  {
   "cell_type": "code",
   "execution_count": null,
   "id": "42586bed",
   "metadata": {},
   "outputs": [],
   "source": []
  },
  {
   "cell_type": "code",
   "execution_count": null,
   "id": "7e82341a",
   "metadata": {},
   "outputs": [],
   "source": []
  },
  {
   "cell_type": "code",
   "execution_count": null,
   "id": "0bb5580d",
   "metadata": {},
   "outputs": [],
   "source": []
  },
  {
   "cell_type": "code",
   "execution_count": null,
   "id": "7b643ab6",
   "metadata": {},
   "outputs": [],
   "source": []
  },
  {
   "cell_type": "code",
   "execution_count": null,
   "id": "0fee62a2",
   "metadata": {},
   "outputs": [],
   "source": []
  },
  {
   "cell_type": "code",
   "execution_count": null,
   "id": "1e07edea",
   "metadata": {},
   "outputs": [],
   "source": []
  },
  {
   "cell_type": "code",
   "execution_count": null,
   "id": "359829c3",
   "metadata": {},
   "outputs": [],
   "source": []
  }
 ],
 "metadata": {
  "kernelspec": {
   "display_name": "Python 3 (ipykernel)",
   "language": "python",
   "name": "python3"
  },
  "language_info": {
   "codemirror_mode": {
    "name": "ipython",
    "version": 3
   },
   "file_extension": ".py",
   "mimetype": "text/x-python",
   "name": "python",
   "nbconvert_exporter": "python",
   "pygments_lexer": "ipython3",
   "version": "3.10.9"
  }
 },
 "nbformat": 4,
 "nbformat_minor": 5
}
